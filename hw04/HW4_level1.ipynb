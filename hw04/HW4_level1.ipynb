{
  "nbformat": 4,
  "nbformat_minor": 0,
  "metadata": {
    "colab": {
      "private_outputs": true,
      "provenance": []
    },
    "kernelspec": {
      "name": "python3",
      "display_name": "Python 3"
    },
    "language_info": {
      "name": "python"
    }
  },
  "cells": [
    {
      "cell_type": "markdown",
      "source": [
        "## 資料準備"
      ],
      "metadata": {
        "id": "vXHqzWpkXC0N"
      }
    },
    {
      "cell_type": "code",
      "execution_count": null,
      "metadata": {
        "id": "WPZg90nZUHBq"
      },
      "outputs": [],
      "source": [
        "# 匯入必要套件\n",
        "import tensorflow as tf\n",
        "import numpy as np"
      ]
    },
    {
      "cell_type": "code",
      "source": [
        "# 匯入資料集\n",
        "from keras.datasets import cifar10\n",
        "# 資料集切割成訓練與測試資料\n",
        "(x_img_train,y_label_train),(x_img_test,y_label_test)=cifar10.load_data()"
      ],
      "metadata": {
        "id": "sHntlD85UPaT"
      },
      "execution_count": null,
      "outputs": []
    },
    {
      "cell_type": "code",
      "source": [
        "# 資料大小\n",
        "print(\"train data:\",'images:',x_img_train.shape,\n",
        "      \" labels:\",y_label_train.shape) \n",
        "print(\"test  data:\",'images:',x_img_test.shape ,\n",
        "      \" labels:\",y_label_test.shape) "
      ],
      "metadata": {
        "id": "5FT28zzlUcTt"
      },
      "execution_count": null,
      "outputs": []
    },
    {
      "cell_type": "code",
      "source": [
        "# 對資料做歸一化處理\n",
        "x_img_train_normalize = x_img_train.astype('float32') / 255.0\n",
        "x_img_test_normalize = x_img_test.astype('float32') / 255.0"
      ],
      "metadata": {
        "id": "ZqZDXl6qUx1i"
      },
      "execution_count": null,
      "outputs": []
    },
    {
      "cell_type": "code",
      "source": [
        "# 對資料樣本作類別標籤(OneHot Code)\n",
        "from keras.utils import np_utils\n",
        "y_label_train_OneHot = np_utils.to_categorical(y_label_train)\n",
        "y_label_test_OneHot = np_utils.to_categorical(y_label_test)"
      ],
      "metadata": {
        "id": "dySwlfZzWJqC"
      },
      "execution_count": null,
      "outputs": []
    },
    {
      "cell_type": "code",
      "source": [
        "# 類別標籤大小 (測試資料筆數:類別總筆數)\n",
        "y_label_test_OneHot.shape"
      ],
      "metadata": {
        "id": "Csy_L2mQWSAt"
      },
      "execution_count": null,
      "outputs": []
    },
    {
      "cell_type": "markdown",
      "source": [
        "## 建立模型"
      ],
      "metadata": {
        "id": "mJm1TNcfXJaX"
      }
    },
    {
      "cell_type": "code",
      "source": [
        "# 建立模型: MPL (Multilayer Perceptron, 多層感知器) 神經網路\n",
        "model = tf.keras.models.Sequential([\n",
        "    tf.keras.layers.Flatten(input_shape=(32, 32, 3)), # 將輸入層匯入的 32x32x3 像素的灰階影像平坦化\n",
        "    tf.keras.layers.Dense(128, activation='relu'), # 第一層全連接層，使用 relu 作為激勵函數\n",
        "    tf.keras.layers.Dropout(0.2),  # 20% Dropout (20% 的節點隨機輸出歸零)\n",
        "    tf.keras.layers.Dense(64, activation='relu'), # 第二層全連接層，使用 relu 作為激勵函數\n",
        "    tf.keras.layers.Dropout(0.2),  # 20% Dropout (20% 的節點隨機輸出歸零)\n",
        "    tf.keras.layers.Dense(10, activation='softmax') # 第三層全連接層輸出 (十類分類指數)\n",
        "])\n"
      ],
      "metadata": {
        "id": "d5_6oBYsZR9o"
      },
      "execution_count": null,
      "outputs": []
    },
    {
      "cell_type": "code",
      "source": [
        "print(model.summary())"
      ],
      "metadata": {
        "id": "ywAvxm2-aPsl"
      },
      "execution_count": null,
      "outputs": []
    },
    {
      "cell_type": "code",
      "source": [
        "#使用疏稀交叉熵作為損失函式\n",
        "#損失函式是分類機率值取對數，再給予負號。如果分十類，訓練前，每類機率接近1/10，loss值因此在2.3左右。\n",
        "#如果分類完原正確，機率值為 1，則loss值為 0。\n",
        "\n",
        "model.compile(optimizer='adam', #用 adam 優化器\n",
        "              loss='categorical_crossentropy', #指定損失函式\n",
        "              metrics=['accuracy']) #評估指標用「正確度(答對的比率)」"
      ],
      "metadata": {
        "id": "gxUre-Uni8hm"
      },
      "execution_count": null,
      "outputs": []
    },
    {
      "cell_type": "code",
      "source": [
        "model.fit(x_img_train_normalize, y_label_train_OneHot, batch_size=128, epochs=10, validation_data=(x_img_test_normalize, y_label_test_OneHot))"
      ],
      "metadata": {
        "id": "hpLj5ExPjVB8"
      },
      "execution_count": null,
      "outputs": []
    },
    {
      "cell_type": "code",
      "source": [
        "model.evaluate(x_img_test_normalize, y_label_test_OneHot, verbose=2) #評估測試組的平均損失與正確率\n",
        "# verbose=0 不顯示，verbose=1 顯示進度，verbose=2 僅顯示結果"
      ],
      "metadata": {
        "id": "ILxztphGw46y"
      },
      "execution_count": null,
      "outputs": []
    }
  ]
}