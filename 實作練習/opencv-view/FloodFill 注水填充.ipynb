{
  "cells": [
    {
      "cell_type": "code",
      "execution_count": 1,
      "metadata": {
        "colab": {
          "base_uri": "https://localhost:8080/",
          "height": 583
        },
        "id": "pbQku-vZuC1f",
        "outputId": "a5079b24-3110-4cbc-e542-40f0cc5ae9d6"
      },
      "outputs": [],
      "source": [
        "import cv2\n",
        "import numpy as np\n",
        "\n",
        "# 注水填充法(Flood Fill)\n",
        "\n",
        "\n",
        "def fill_image(image, x, y, t):\n",
        "    copyImage = image.copy()  # 複製影像\n",
        "    h, w = image.shape[:2]  # 讀取影像高寬\n",
        "    mask = np.zeros([h+2, w+2], np.uint8)  # 新建影像  +2是函數要求\n",
        "    mask[40:190, 40:180] = 255\n",
        "    mask = 255 - mask\n",
        "    cv2.floodFill(copyImage, mask, (y, x), (0, 255, 255),\n",
        "                  (t, t, t), (t, t, t), cv2.FLOODFILL_FIXED_RANGE)\n",
        "    # 1.彩色影像, 2.注水填充僅在遮罩的黑色區域執行，3.種子點座標, 4.注水區BGR色彩,\n",
        "    # 5.種子點BGR值與低門檻的BGR差異, 6.種子點BGR值與低門檻的BGR差異, 7.使用固定門檻\n",
        "    return copyImage, mask"
      ]
    },
    {
      "cell_type": "code",
      "execution_count": 4,
      "metadata": {},
      "outputs": [],
      "source": [
        "\n",
        "src = cv2.imread('data/s.jpg')\n",
        "h, w = src.shape[:2]\n",
        "x = int(input('seed x (<' + str(h) + ') = ? '))\n",
        "y = int(input('seed y (<' + str(w) + ') = ? '))\n",
        "t = int(input('tolerance = ? '))\n",
        "dst, mask = fill_image(src, x, y, t)\n",
        "dst = np.hstack((src, dst))\n",
        "cv2.namedWindow('Input/FloodFill')\n",
        "cv2.imshow('Input/FloodFill', dst)\n",
        "cv2.namedWindow('mask')\n",
        "cv2.imshow('mask', mask)\n",
        "cv2.waitKey()\n",
        "cv2.destroyAllWindows()"
      ]
    }
  ],
  "metadata": {
    "colab": {
      "collapsed_sections": [],
      "name": "openCV Ex06 FloodFill.ipynb",
      "provenance": []
    },
    "kernelspec": {
      "display_name": "Python 3",
      "name": "python3"
    },
    "language_info": {
      "codemirror_mode": {
        "name": "ipython",
        "version": 3
      },
      "file_extension": ".py",
      "mimetype": "text/x-python",
      "name": "python",
      "nbconvert_exporter": "python",
      "pygments_lexer": "ipython3",
      "version": "3.8.8"
    }
  },
  "nbformat": 4,
  "nbformat_minor": 0
}
