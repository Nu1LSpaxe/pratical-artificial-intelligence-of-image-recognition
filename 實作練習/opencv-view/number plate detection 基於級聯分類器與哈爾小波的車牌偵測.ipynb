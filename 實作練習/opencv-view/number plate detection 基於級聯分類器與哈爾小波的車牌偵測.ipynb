{
  "cells": [
    {
      "cell_type": "code",
      "execution_count": 1,
      "metadata": {
        "colab": {
          "base_uri": "https://localhost:8080/",
          "height": 646
        },
        "id": "qk5UM_sANzlD",
        "outputId": "b4cf937f-c732-4566-f182-e97f1276382a"
      },
      "outputs": [
        {
          "name": "stdout",
          "output_type": "stream",
          "text": [
            "[[222 341 306 102]\n",
            " [205  99 286  95]\n",
            " [244 169 319 107]]\n"
          ]
        }
      ],
      "source": [
        "import cv2\n",
        "import numpy as np\n",
        "\n",
        "# 讀入兩幅影像\n",
        "nPlateCascade = cv2.CascadeClassifier(\n",
        "    'data/haarcascades/haarcascade_russian_plate_number.xml')\n",
        "img = cv2.imread('data/plates1.jpg')\n",
        "imgGray = cv2.cvtColor(img, cv2.COLOR_BGR2GRAY)\n",
        "\n",
        "numberPlates = nPlateCascade.detectMultiScale(imgGray, 1.1, 5)\n",
        "print(numberPlates)\n",
        "\n",
        "minArea = 100\n",
        "color = (255, 0, 255)\n",
        "\n",
        "n = 0\n",
        "for (x, y, w, h) in numberPlates:\n",
        "    cv2.rectangle(img, (x, y), (x+w, y+h), (255, 0, 0), 2)\n",
        "    area = w*h\n",
        "    if area > minArea:\n",
        "        cv2.rectangle(img, (x, y), (x + w, y + h), (255, 0, 255), 2)\n",
        "        cv2.putText(img, \"Number Plate\", (x, y-5),\n",
        "                    cv2.FONT_HERSHEY_COMPLEX_SMALL, 1, color, 2)\n",
        "        imgRoi = img[y:y+h, x:x+w]\n",
        "        n += 1\n",
        "        str1 = 'ROI '+str(n)\n",
        "        cv2.namedWindow(str1)\n",
        "        cv2.imshow(str1, imgRoi)\n",
        "\n",
        "cv2.namedWindow('input')\n",
        "cv2.imshow('input', img)\n",
        "cv2.waitKey()\n",
        "cv2.destroyAllWindows()"
      ]
    }
  ],
  "metadata": {
    "colab": {
      "collapsed_sections": [],
      "name": "openCV number plate detection.ipynb",
      "provenance": []
    },
    "kernelspec": {
      "display_name": "Python 3",
      "name": "python3"
    },
    "language_info": {
      "codemirror_mode": {
        "name": "ipython",
        "version": 3
      },
      "file_extension": ".py",
      "mimetype": "text/x-python",
      "name": "python",
      "nbconvert_exporter": "python",
      "pygments_lexer": "ipython3",
      "version": "3.8.8"
    }
  },
  "nbformat": 4,
  "nbformat_minor": 0
}
