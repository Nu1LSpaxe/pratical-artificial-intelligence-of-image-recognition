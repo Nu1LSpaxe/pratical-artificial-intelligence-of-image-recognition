{
  "cells": [
    {
      "cell_type": "code",
      "execution_count": 1,
      "metadata": {
        "colab": {
          "base_uri": "https://localhost:8080/",
          "height": 317
        },
        "id": "i4t8UMKHFiCy",
        "outputId": "46abc4db-27bc-429b-9982-62be54b49e88"
      },
      "outputs": [],
      "source": [
        "'''cv21: RGB影像調色'''\n",
        "import cv2\n",
        "import numpy as np\n",
        "\n",
        "font = cv2.FONT_HERSHEY_SIMPLEX\n",
        "path = 'data/s.jpg' #影像路徑\n",
        "\n",
        "def processing(pos):\n",
        "    #讀取調整值\n",
        "    R_weight = cv2.getTrackbarPos('R','image')/100\n",
        "    G_weight = cv2.getTrackbarPos('G','image')/100\n",
        "    B_weight = cv2.getTrackbarPos('B','image')/100\n",
        "\n",
        "    #調整影像RGB值\n",
        "    BGRimg2=BGRimg1/255\n",
        "    BGRimg2[:,:,0] = BGRimg2[:,:,0] * B_weight\n",
        "    BGRimg2[:,:,1] = BGRimg2[:,:,1] * G_weight\n",
        "    BGRimg2[:,:,2] = BGRimg2[:,:,2] * R_weight\n",
        "    BGRimg2= (np.clip(BGRimg2, 0, 1) *255).astype(\"uint8\")\n",
        "    #將數值限制在[0 1]範圍，再轉換至uint8格式\n",
        "    \n",
        "    imgs = np.hstack((BGRimg1, BGRimg2)) #左右堆疊影像\n",
        "    w = BGRimg1.shape[1] #讀取影像高,寬,通道數\n",
        "\n",
        "     #呈現RGB調整量   \n",
        "    cv2.putText(imgs, \"R weight: %.2f\"%R_weight, (w+20, 20),\n",
        "                        font, 0.7, (0, 255, 255), 1, cv2.LINE_AA)\n",
        "    cv2.putText(imgs, \"G weight: %.2f\"%G_weight, (w+20, 50),\n",
        "                        font, 0.7, (0, 255, 255), 1, cv2.LINE_AA)\n",
        "    cv2.putText(imgs, \"B weight: %.2f\"%B_weight, (w+20, 80),\n",
        "                        font, 0.7, (0, 255, 255), 1, cv2.LINE_AA)\n",
        "    cv2.imshow('image',imgs)\n",
        "\n",
        "print('RGB影像調色: 按 r 鍵重設滑桿數值, 按 Esc 離開')\n",
        "BGRimg1 = cv2.imread(path) #讀取影像\n",
        "cv2.namedWindow('image')\n",
        "\n",
        "# 建立RGB調色桿\n",
        "cv2.createTrackbar('R','image', 100, 200, processing)\n",
        "cv2.createTrackbar('G','image', 100, 200, processing)\n",
        "cv2.createTrackbar('B','image', 100, 200, processing)\n",
        "processing(0) #初始化\n",
        "\n",
        "while(1):\n",
        "    k = cv2.waitKey(1) & 0xFF\n",
        "    if k == 27: #如果是 Esc (ASCII 第27號)，脫離迴圈\n",
        "        break\n",
        "    elif k==ord('r'):\n",
        "         cv2.setTrackbarPos('R','image', 100)\n",
        "         cv2.setTrackbarPos('G','image', 100)\n",
        "         cv2.setTrackbarPos('B','image', 100)\n",
        "         processing(0)        \n",
        "\n",
        "cv2.destroyAllWindows()"
      ]
    }
  ],
  "metadata": {
    "colab": {
      "name": "openCV color palette.ipynb",
      "provenance": []
    },
    "kernelspec": {
      "display_name": "Python 3",
      "name": "python3"
    },
    "language_info": {
      "codemirror_mode": {
        "name": "ipython",
        "version": 3
      },
      "file_extension": ".py",
      "mimetype": "text/x-python",
      "name": "python",
      "nbconvert_exporter": "python",
      "pygments_lexer": "ipython3",
      "version": "3.8.8"
    }
  },
  "nbformat": 4,
  "nbformat_minor": 0
}
