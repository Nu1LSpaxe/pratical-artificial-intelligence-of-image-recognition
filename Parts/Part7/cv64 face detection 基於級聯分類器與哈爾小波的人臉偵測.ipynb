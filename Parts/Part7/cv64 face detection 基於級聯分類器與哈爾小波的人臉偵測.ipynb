{
  "cells": [
    {
      "cell_type": "code",
      "execution_count": 1,
      "metadata": {
        "colab": {
          "base_uri": "https://localhost:8080/",
          "height": 529
        },
        "id": "f4JpYq47BiAV",
        "outputId": "8cfb1283-91e7-401c-e747-f89636a6b39f"
      },
      "outputs": [],
      "source": [
        "'''cv64: 基於哈爾小波級聯分類器的人臉/人眼辨識'''\n",
        "import cv2\n",
        "\n",
        "#載入人臉/人眼偵測訓練集\n",
        "face_cascade = cv2.CascadeClassifier('data/haarcascades/haarcascade_frontalface_alt.xml')\n",
        "eye_cascade = cv2.CascadeClassifier('data/haarcascades/haarcascade_eye_tree_eyeglasses.xml')\n",
        "filename = 'data/Lenna.jpg'\n",
        "img = cv2.imread(filename)\n",
        "gray = cv2.cvtColor(img, cv2.COLOR_BGR2GRAY) #影像轉灰階\n",
        "\n",
        "faces = face_cascade.detectMultiScale(gray, 1.3, 5) #偵測人臉\n",
        "\n",
        "#繪製人臉矩形框\n",
        "for (x,y,w,h) in faces:\n",
        "    cv2.rectangle(img,(x,y),(x+w,y+h),(255,0,0),2) #繪製人臉矩形框\n",
        "    roi_gray = gray[y:y+h, x:x+w] #讀取人臉區域灰階影像\n",
        "    roi_color = img[y:y+h, x:x+w] #讀取人臉區域彩色影像\n",
        "    eyes = eye_cascade.detectMultiScale(roi_gray) #偵測人眼\n",
        "    for (ex,ey,ew,eh) in eyes:\n",
        "        cv2.rectangle(roi_color,(ex,ey),(ex+ew,ey+eh),(0,255,0),2) #繪製人眼矩形框\n",
        "\n",
        "cv2.imshow(\"img\",img)\n",
        "cv2.waitKey()\n",
        "cv2.destroyAllWindows()"
      ]
    }
  ],
  "metadata": {
    "colab": {
      "collapsed_sections": [],
      "name": "openCV face detection.ipynb",
      "provenance": []
    },
    "kernelspec": {
      "display_name": "Python 3",
      "name": "python3"
    },
    "language_info": {
      "name": "python",
      "version": "3.11.0"
    }
  },
  "nbformat": 4,
  "nbformat_minor": 0
}
