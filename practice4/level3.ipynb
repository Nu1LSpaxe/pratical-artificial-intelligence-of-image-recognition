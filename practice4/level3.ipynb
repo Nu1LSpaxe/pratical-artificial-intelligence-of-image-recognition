{
  "nbformat": 4,
  "nbformat_minor": 0,
  "metadata": {
    "colab": {
      "private_outputs": true,
      "provenance": [],
      "collapsed_sections": [
        "dz-y9SyPihZR"
      ]
    },
    "kernelspec": {
      "name": "python3",
      "display_name": "Python 3"
    },
    "language_info": {
      "name": "python"
    }
  },
  "cells": [
    {
      "cell_type": "markdown",
      "source": [
        "## 匯入必要套件"
      ],
      "metadata": {
        "id": "ZUPqei5GYSf8"
      }
    },
    {
      "cell_type": "code",
      "source": [
        "# For drawing\n",
        "import matplotlib.pyplot as plt\n",
        "# For data processing\n",
        "import numpy as np\n",
        "import os\n",
        "# For buildind model\n",
        "import tensorflow as tf\n",
        "from tensorflow.keras.applications import MobileNet"
      ],
      "metadata": {
        "id": "iUMJrUroE7ZA"
      },
      "execution_count": null,
      "outputs": []
    },
    {
      "cell_type": "markdown",
      "source": [
        "## 資料處理"
      ],
      "metadata": {
        "id": "2lK-COdKYaHR"
      }
    },
    {
      "cell_type": "code",
      "execution_count": null,
      "metadata": {
        "id": "QDaVE6eSDBjw"
      },
      "outputs": [],
      "source": [
        "# 匯入資料集\n",
        "from keras.datasets import cifar10\n",
        "# 資料集切割成訓練與測試資料\n",
        "(x_img_train,y_label_train),(x_img_test,y_label_test)=cifar10.load_data()"
      ]
    },
    {
      "cell_type": "code",
      "source": [
        "# 資料大小\n",
        "print(\"train data:\",'images:',x_img_train.shape,\n",
        "      \" labels:\",y_label_train.shape)\n",
        "print(\"test  data:\",'images:',x_img_test.shape ,\n",
        "      \" labels:\",y_label_test.shape)"
      ],
      "metadata": {
        "id": "BX23ORFoE3rH"
      },
      "execution_count": null,
      "outputs": []
    },
    {
      "cell_type": "code",
      "source": [
        "# 對資料樣本作類別標籤(OneHot Code)\n",
        "from keras.utils import np_utils\n",
        "y_label_train_OneHot = np_utils.to_categorical(y_label_train)\n",
        "y_label_test_OneHot = np_utils.to_categorical(y_label_test)\n",
        "\n",
        "# 由於MobileNetV2 的影像格式是[-1, 1]，且大小最小是[96, 96]，因此用下式將資料轉換相應格式\n",
        "x_img_train_normalize = tf.image.resize(x_img_train/127.5 - 1.0, [96, 96])  # [0, 255] => [-1, 1]\n",
        "x_img_test_normalize = tf.image.resize(x_img_test/127.5 - 1.0, [96, 96])  # [0, 255] => [-1, 1]"
      ],
      "metadata": {
        "id": "ssXtrJU6N7x4"
      },
      "execution_count": null,
      "outputs": []
    },
    {
      "cell_type": "markdown",
      "source": [
        "### 影像縮放"
      ],
      "metadata": {
        "id": "WLxSjClnY7gw"
      }
    },
    {
      "cell_type": "code",
      "source": [
        "# 建立資料擴增函式\n",
        "data_augmentation = tf.keras.Sequential([\n",
        "  tf.keras.layers.RandomFlip('horizontal'), # 水平翻轉\n",
        "  tf.keras.layers.RandomRotation(0.2), # 旋轉\n",
        "])"
      ],
      "metadata": {
        "id": "VmZjNhzpY4Ls"
      },
      "execution_count": null,
      "outputs": []
    },
    {
      "cell_type": "markdown",
      "source": [
        "## 建立模型"
      ],
      "metadata": {
        "id": "_ECL4WjzYexz"
      }
    },
    {
      "cell_type": "code",
      "source": [
        "# 定義遷移式學習的基底模型\n",
        "base_model = tf.keras.applications.MobileNetV2(input_shape=(96,96,3),\n",
        "                                               include_top=False, # 不包含頂層分類器\n",
        "                                               weights='imagenet')"
      ],
      "metadata": {
        "id": "pIwLgePgPJPm"
      },
      "execution_count": null,
      "outputs": []
    },
    {
      "cell_type": "code",
      "source": [
        "fine_tune = 100\n",
        "for layer in base_model.layers[:fine_tune]:\n",
        "  layer.trainable = False   # 前100層不允許調整\n",
        "\n",
        "inputs = tf.keras.Input(shape=(96,96,3))\n",
        "x = base_model(inputs)  # base model\n",
        "x = tf.keras.layers.GlobalAveragePooling2D()(x) # 5x5 Average Pooling 平均空間\n",
        "x = tf.keras.layers.Dropout(0.2)(x) # 20% 節點隨機設成 0 輸出\n",
        "x = tf.keras.layers.Dense(128, activation='relu')(x)\n",
        "outputs = tf.keras.layers.Dense(10, activation='softmax')(x)  # 換算成機率值\n",
        "model = tf.keras.Model(inputs, outputs) # 定義新模型的名稱\n",
        "\n",
        "loss_fn = tf.keras.losses.CategoricalCrossentropy() # 使用稀疏交叉熵作為損失函數\n",
        "optimizer = tf.keras.optimizers.Adam(learning_rate=0.005) # 用 Adam 優化器 (學習率0.005)\n",
        "\n",
        "model.compile(optimizer=optimizer,  # 指定優化器\n",
        "              loss=loss_fn, # 指定損失函數\n",
        "              metrics=['accuracy']) # 評估指標用「正確率(答對的比率)」\n",
        "\n",
        "print(model.summary())  # 顯示模型結構"
      ],
      "metadata": {
        "id": "i2OqCgyuPqYU"
      },
      "execution_count": null,
      "outputs": []
    },
    {
      "cell_type": "code",
      "source": [
        "history = model.fit(x_img_train_normalize, y_label_train_OneHot, batch_size=64, epochs=10, validation_split=0.2)  # 訓練 10 epochs"
      ],
      "metadata": {
        "id": "FQT--d1nRnn0"
      },
      "execution_count": null,
      "outputs": []
    },
    {
      "cell_type": "markdown",
      "source": [
        "## 顯示準確率 / 損失率"
      ],
      "metadata": {
        "id": "3CBf_EbRwXC1"
      }
    },
    {
      "cell_type": "code",
      "source": [
        "# 定義繪製訓練準確率與損失率方法\n",
        "def show_history(history, train_acc, test_acc, train_loss, test_loss):\n",
        "    fig, (ax1, ax2) = plt.subplots(1, 2, figsize=(12, 6))\n",
        "\n",
        "    # 顯示準確率曲線\n",
        "    ax1.plot(history.history[train_acc])\n",
        "    ax1.plot(history.history[test_acc])\n",
        "    ax1.set_title('Accuracy')\n",
        "    ax1.set_ylabel('Accuracy')\n",
        "    ax1.set_xlabel('Epoch')\n",
        "    ax1.legend(['train', 'test'], loc='upper left')\n",
        "\n",
        "    # 顯示損失率曲線\n",
        "    ax2.plot(history.history[train_loss])\n",
        "    ax2.plot(history.history[test_loss])\n",
        "    ax2.set_title('Loss')\n",
        "    ax2.set_ylabel('Loss')\n",
        "    ax2.set_xlabel('Epoch')\n",
        "    ax2.legend(['train', 'test'], loc='upper left')\n",
        "\n",
        "    plt.tight_layout()\n",
        "    plt.show()"
      ],
      "metadata": {
        "id": "50_gUSvERyJK"
      },
      "execution_count": null,
      "outputs": []
    },
    {
      "cell_type": "code",
      "source": [
        "# 繪製準確率 / 損失率\n",
        "show_history(history,'accuracy','val_accuracy', 'loss', 'val_loss')"
      ],
      "metadata": {
        "id": "E6PpYl_iwbMJ"
      },
      "execution_count": null,
      "outputs": []
    },
    {
      "cell_type": "markdown",
      "source": [
        "## 測試"
      ],
      "metadata": {
        "id": "jKnZ1XAnxBSz"
      }
    },
    {
      "cell_type": "code",
      "source": [
        "# 測試組的預測機率\n",
        "prediction = np.argmax(model.predict(x_img_test_normalize), axis=-1)\n",
        "\n",
        "import pandas as pd\n",
        "# 10 種類別的標記名稱\n",
        "label_dict = {0:\"airplane\", 1:\"automobile\", 2:\"bird\", 3:\"cat\", 4:\"deer\",\n",
        "              5:\"dog\", 6:\"frog\", 7:\"horse\", 8:\"ship\", 9:\"truck\"}\n",
        "# 顯示混淆矩陣(測試組)\n",
        "pd.crosstab(y_label_test.reshape(-1), prediction,\n",
        "            rownames=['label'], colnames=['predict'])"
      ],
      "metadata": {
        "id": "0ukgQ3eHxCq3"
      },
      "execution_count": null,
      "outputs": []
    }
  ]
}