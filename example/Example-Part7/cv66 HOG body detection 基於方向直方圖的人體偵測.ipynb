{
  "cells": [
    {
      "cell_type": "code",
      "execution_count": 2,
      "metadata": {
        "colab": {
          "base_uri": "https://localhost:8080/",
          "height": 1000
        },
        "id": "fHUh_fxlOzM_",
        "outputId": "2270edde-1035-4a9f-ced1-f542862ad846"
      },
      "outputs": [],
      "source": [
        "'''cv66: 用HOG描述子偵測行人'''\n",
        "import cv2\n",
        "import numpy as np\n",
        "filename = 'data/people3.jpg'\n",
        "src = cv2.imread(filename)\n",
        "cv2.namedWindow('people')\n",
        "cv2.imshow('people',src)\n",
        "\n",
        "# HOG 特徵描述子\n",
        "hog = cv2.HOGDescriptor()\n",
        "# 創建 SVM 檢測器\n",
        "hog.setSVMDetector(cv2.HOGDescriptor_getDefaultPeopleDetector())\n",
        "# 檢測行人\n",
        "(rects, weights) = hog.detectMultiScale(src,\n",
        "                                        winStride=(4, 4),\n",
        "                                        padding=(8, 8),\n",
        "                                        scale=1.25,\n",
        "                                        useMeanshiftGrouping=False)\n",
        "\n",
        "cv2.namedWindow('results')\n",
        "for (x,y,w,h) in rects:\n",
        "    cv2.rectangle(src, (x,y), (x+w,y+h), (0,255,0),2)\n",
        "\n",
        "cv2.imshow('results',src)\n",
        "cv2.waitKey()\n",
        "cv2.destroyAllWindows()"
      ]
    }
  ],
  "metadata": {
    "colab": {
      "collapsed_sections": [],
      "name": "openCV HOG body detection.ipynb",
      "provenance": []
    },
    "kernelspec": {
      "display_name": "Python 3",
      "name": "python3"
    },
    "language_info": {
      "codemirror_mode": {
        "name": "ipython",
        "version": 3
      },
      "file_extension": ".py",
      "mimetype": "text/x-python",
      "name": "python",
      "nbconvert_exporter": "python",
      "pygments_lexer": "ipython3",
      "version": "3.8.8"
    }
  },
  "nbformat": 4,
  "nbformat_minor": 0
}
