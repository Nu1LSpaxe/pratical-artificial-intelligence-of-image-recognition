{
  "cells": [
    {
      "attachments": {},
      "cell_type": "markdown",
      "metadata": {
        "id": "jYysdyb-CaWM"
      },
      "source": [
        "# Basic classification: Classify images of number\n"
      ]
    },
    {
      "attachments": {},
      "cell_type": "markdown",
      "metadata": {
        "id": "S5Uhzt6vVIB2"
      },
      "source": [
        "<table class=\"tfo-notebook-buttons\" align=\"left\">\n",
        "  <td>\n",
        "    <a target=\"_blank\" href=\"https://www.tensorflow.org/tutorials/keras/classification\"><img src=\"https://www.tensorflow.org/images/tf_logo_32px.png\" />View on TensorFlow.org</a>\n",
        "  </td>\n",
        "  <td>\n",
        "    <a target=\"_blank\" href=\"https://colab.research.google.com/github/tensorflow/docs/blob/master/site/en/tutorials/keras/classification.ipynb\"><img src=\"https://www.tensorflow.org/images/colab_logo_32px.png\" />Run in Google Colab</a>\n",
        "  </td>\n",
        "  <td>\n",
        "    <a target=\"_blank\" href=\"https://github.com/tensorflow/docs/blob/master/site/en/tutorials/keras/classification.ipynb\"><img src=\"https://www.tensorflow.org/images/GitHub-Mark-32px.png\" />View source on GitHub</a>\n",
        "  </td>\n",
        "  <td>\n",
        "    <a href=\"https://storage.googleapis.com/tensorflow_docs/docs/site/en/tutorials/keras/classification.ipynb\"><img src=\"https://www.tensorflow.org/images/download_logo_32px.png\" />Download notebook</a>\n",
        "  </td>\n",
        "</table>\n"
      ]
    },
    {
      "attachments": {},
      "cell_type": "markdown",
      "metadata": {
        "id": "FbVhjPpzn6BM"
      },
      "source": [
        "This guide trains a neural network model to classify images of clothing, like sneakers and shirts. It's okay if you don't understand all the details; this is a fast-paced overview of a complete TensorFlow program with the details explained as you go.\n",
        "\n",
        "This guide uses [tf.keras](https://www.tensorflow.org/guide/keras), a high-level API to build and train models in TensorFlow.\n"
      ]
    },
    {
      "cell_type": "code",
      "execution_count": 1,
      "metadata": {
        "colab": {
          "base_uri": "https://localhost:8080/"
        },
        "execution": {
          "iopub.execute_input": "2020-10-15T01:28:48.704610Z",
          "iopub.status.busy": "2020-10-15T01:28:48.703507Z",
          "iopub.status.idle": "2020-10-15T01:28:54.941102Z",
          "shell.execute_reply": "2020-10-15T01:28:54.941516Z"
        },
        "id": "dzLKpmZICaWN",
        "outputId": "bcc35384-1c12-4a3b-e878-0707055ddaaa"
      },
      "outputs": [
        {
          "name": "stdout",
          "output_type": "stream",
          "text": [
            "2.7.0\n"
          ]
        }
      ],
      "source": [
        "# TensorFlow and tf.keras\n",
        "import tensorflow as tf\n",
        "\n",
        "# Helper libraries\n",
        "import numpy as np\n",
        "import matplotlib.pyplot as plt\n",
        "\n",
        "print(tf.__version__)"
      ]
    },
    {
      "attachments": {},
      "cell_type": "markdown",
      "metadata": {
        "id": "yR0EdgrLCaWR"
      },
      "source": [
        "## Import the MNIST dataset\n"
      ]
    },
    {
      "attachments": {},
      "cell_type": "markdown",
      "metadata": {
        "id": "DLdCchMdCaWQ"
      },
      "source": [
        "MNIST 影像資料包括四個檔案：\n",
        "\n",
        "1.  train_images 訓練影像 60000x28x28\n",
        "2.  train_labels 訓練影像之標記 60000x1\n",
        "3.  test_images 測試影像\n",
        "4.  test_labels 測試影像之標記\n"
      ]
    },
    {
      "cell_type": "code",
      "execution_count": 2,
      "metadata": {
        "colab": {
          "base_uri": "https://localhost:8080/"
        },
        "execution": {
          "iopub.execute_input": "2020-10-15T01:28:54.947431Z",
          "iopub.status.busy": "2020-10-15T01:28:54.945758Z",
          "iopub.status.idle": "2020-10-15T01:28:55.921866Z",
          "shell.execute_reply": "2020-10-15T01:28:55.920987Z"
        },
        "id": "7MqDQO0KCaWS",
        "outputId": "feec9ffc-628c-454d-9ddb-418ac0ed2a38"
      },
      "outputs": [],
      "source": [
        "# fashion_mnist = tf.keras.datasets.mnist\n",
        "from keras.datasets import mnist\n",
        "(train_images, train_labels), (test_images, test_labels) = mnist.load_data()"
      ]
    },
    {
      "cell_type": "code",
      "execution_count": 3,
      "metadata": {
        "execution": {
          "iopub.execute_input": "2020-10-15T01:28:55.927038Z",
          "iopub.status.busy": "2020-10-15T01:28:55.926055Z",
          "iopub.status.idle": "2020-10-15T01:28:55.928759Z",
          "shell.execute_reply": "2020-10-15T01:28:55.928121Z"
        },
        "id": "IjnLH5S2CaWx"
      },
      "outputs": [],
      "source": [
        "class_names = ['0', '1', '2', '3', '4', '5', '6', '7', '8', '9']"
      ]
    },
    {
      "attachments": {},
      "cell_type": "markdown",
      "metadata": {
        "id": "Brm0b_KACaWX"
      },
      "source": [
        "## Explore the data\n",
        "\n",
        "訓練影像包含 60,000 個 28x28 尺寸的灰階影像\n"
      ]
    },
    {
      "cell_type": "code",
      "execution_count": 13,
      "metadata": {
        "colab": {
          "base_uri": "https://localhost:8080/"
        },
        "execution": {
          "iopub.execute_input": "2020-10-15T01:28:55.934510Z",
          "iopub.status.busy": "2020-10-15T01:28:55.933579Z",
          "iopub.status.idle": "2020-10-15T01:28:55.937673Z",
          "shell.execute_reply": "2020-10-15T01:28:55.938105Z"
        },
        "id": "zW5k_xz1CaWX",
        "outputId": "df63e3de-3548-46ee-a32e-2830e3986d80"
      },
      "outputs": [
        {
          "name": "stdout",
          "output_type": "stream",
          "text": [
            "(60000, 28, 28)\n"
          ]
        },
        {
          "data": {
            "text/plain": [
              "dtype('float64')"
            ]
          },
          "execution_count": 13,
          "metadata": {},
          "output_type": "execute_result"
        }
      ],
      "source": [
        "print(train_images.shape)\n",
        "train_images.dtype"
      ]
    },
    {
      "attachments": {},
      "cell_type": "markdown",
      "metadata": {
        "id": "cIAcvQqMCaWf"
      },
      "source": [
        "Likewise, there are 60,000 labels in the training set:\n"
      ]
    },
    {
      "cell_type": "code",
      "execution_count": 14,
      "metadata": {
        "colab": {
          "base_uri": "https://localhost:8080/"
        },
        "execution": {
          "iopub.execute_input": "2020-10-15T01:28:55.942785Z",
          "iopub.status.busy": "2020-10-15T01:28:55.941935Z",
          "iopub.status.idle": "2020-10-15T01:28:55.945134Z",
          "shell.execute_reply": "2020-10-15T01:28:55.945674Z"
        },
        "id": "TRFYHB2mCaWb",
        "outputId": "179a6bb1-1940-4caf-9fe9-f1350284c938"
      },
      "outputs": [
        {
          "data": {
            "text/plain": [
              "60000"
            ]
          },
          "execution_count": 14,
          "metadata": {},
          "output_type": "execute_result"
        }
      ],
      "source": [
        "len(train_labels)"
      ]
    },
    {
      "attachments": {},
      "cell_type": "markdown",
      "metadata": {
        "id": "YSlYxFuRCaWk"
      },
      "source": [
        "標記是 0 到 9 之間的整數\n"
      ]
    },
    {
      "cell_type": "code",
      "execution_count": 15,
      "metadata": {
        "colab": {
          "base_uri": "https://localhost:8080/"
        },
        "execution": {
          "iopub.execute_input": "2020-10-15T01:28:55.950046Z",
          "iopub.status.busy": "2020-10-15T01:28:55.949289Z",
          "iopub.status.idle": "2020-10-15T01:28:55.952794Z",
          "shell.execute_reply": "2020-10-15T01:28:55.952207Z"
        },
        "id": "XKnCTHz4CaWg",
        "outputId": "263366c9-32ab-4819-8d88-9d5ac580b62e"
      },
      "outputs": [
        {
          "name": "stdout",
          "output_type": "stream",
          "text": [
            "[5 0 4 ... 5 6 8]\n",
            "[5 0 4 1 9 2 1 3 1 4]\n",
            "[9 2 9 5 1 8 3 5 6 8]\n"
          ]
        }
      ],
      "source": [
        "print(train_labels)\n",
        "print(train_labels[:10])  # 頭10筆\n",
        "print(train_labels[-10:])  # 末尾10筆"
      ]
    },
    {
      "attachments": {},
      "cell_type": "markdown",
      "metadata": {
        "id": "TMPI88iZpO2T"
      },
      "source": [
        "測試影像包含 10,000 個 28x28 尺寸的灰階影像\n"
      ]
    },
    {
      "cell_type": "code",
      "execution_count": 16,
      "metadata": {
        "colab": {
          "base_uri": "https://localhost:8080/"
        },
        "execution": {
          "iopub.execute_input": "2020-10-15T01:28:55.957082Z",
          "iopub.status.busy": "2020-10-15T01:28:55.956303Z",
          "iopub.status.idle": "2020-10-15T01:28:55.959375Z",
          "shell.execute_reply": "2020-10-15T01:28:55.959771Z"
        },
        "id": "2KFnYlcwCaWl",
        "outputId": "36fd1687-cde2-46d8-cad3-c3f8a7181a16"
      },
      "outputs": [
        {
          "data": {
            "text/plain": [
              "(10000, 28, 28)"
            ]
          },
          "execution_count": 16,
          "metadata": {},
          "output_type": "execute_result"
        }
      ],
      "source": [
        "test_images.shape  # 尺寸=(影像數量,影像高,影像寬)"
      ]
    },
    {
      "attachments": {},
      "cell_type": "markdown",
      "metadata": {
        "id": "rd0A0Iu0CaWq"
      },
      "source": [
        "測試影像有 10,000 個標記\n"
      ]
    },
    {
      "cell_type": "code",
      "execution_count": 17,
      "metadata": {
        "colab": {
          "base_uri": "https://localhost:8080/"
        },
        "execution": {
          "iopub.execute_input": "2020-10-15T01:28:55.963873Z",
          "iopub.status.busy": "2020-10-15T01:28:55.963023Z",
          "iopub.status.idle": "2020-10-15T01:28:55.966085Z",
          "shell.execute_reply": "2020-10-15T01:28:55.966508Z"
        },
        "id": "iJmPr5-ACaWn",
        "outputId": "6dd83e0e-4dbb-4e3e-a397-e1c6c4d264b0"
      },
      "outputs": [
        {
          "data": {
            "text/plain": [
              "10000"
            ]
          },
          "execution_count": 17,
          "metadata": {},
          "output_type": "execute_result"
        }
      ],
      "source": [
        "len(test_labels)"
      ]
    },
    {
      "attachments": {},
      "cell_type": "markdown",
      "metadata": {
        "id": "ES6uQoLKCaWr"
      },
      "source": [
        "## Preprocess the data\n",
        "\n",
        "灰階影像的數在 0 到 255 之間\n"
      ]
    },
    {
      "cell_type": "code",
      "execution_count": 18,
      "metadata": {
        "colab": {
          "base_uri": "https://localhost:8080/",
          "height": 265
        },
        "execution": {
          "iopub.execute_input": "2020-10-15T01:28:55.984523Z",
          "iopub.status.busy": "2020-10-15T01:28:55.983443Z",
          "iopub.status.idle": "2020-10-15T01:28:56.147713Z",
          "shell.execute_reply": "2020-10-15T01:28:56.147090Z"
        },
        "id": "m4VEw8Ud9Quh",
        "outputId": "f1e67216-41b9-4aff-8d49-518734f3d029"
      },
      "outputs": [
        {
          "data": {
            "image/png": "[encoded data removed]",
            "text/plain": [
              "<Figure size 432x288 with 2 Axes>"
            ]
          },
          "metadata": {
            "needs_background": "light"
          },
          "output_type": "display_data"
        }
      ],
      "source": [
        "plt.figure()\n",
        "plt.imshow(train_images[0], cmap=plt.cm.binary)  # 顯示第0號影像，以灰階色彩對映表上色顯示\n",
        "plt.colorbar()  # 顯示灰階\n",
        "plt.grid(False)\n",
        "plt.show()"
      ]
    },
    {
      "attachments": {},
      "cell_type": "markdown",
      "metadata": {
        "id": "Wz7l27Lz9S1P"
      },
      "source": [
        "神經網路必須輸入[0 1]之間的數據, 因此必須將 8 位元灰階影像除以 255.0\n"
      ]
    },
    {
      "cell_type": "code",
      "execution_count": 19,
      "metadata": {
        "colab": {
          "base_uri": "https://localhost:8080/"
        },
        "execution": {
          "iopub.execute_input": "2020-10-15T01:28:56.152920Z",
          "iopub.status.busy": "2020-10-15T01:28:56.151644Z",
          "iopub.status.idle": "2020-10-15T01:28:56.309548Z",
          "shell.execute_reply": "2020-10-15T01:28:56.310021Z"
        },
        "id": "bW5WzIPlCaWv",
        "outputId": "8091e0d3-a1c1-4566-8b81-7b6f0f9c30ce"
      },
      "outputs": [
        {
          "data": {
            "text/plain": [
              "dtype('float64')"
            ]
          },
          "execution_count": 19,
          "metadata": {},
          "output_type": "execute_result"
        }
      ],
      "source": [
        "train_images = train_images / 255.0  # 將訓練影像明暗調至[0 1]範圍\n",
        "test_images = test_images / 255.0  # 將測試影像明暗調至[0 1]範圍\n",
        "test_images.dtype"
      ]
    },
    {
      "attachments": {},
      "cell_type": "markdown",
      "metadata": {
        "id": "Ee638AlnCaWz"
      },
      "source": [
        "為了確認影像輸入沒有問題，先顯示訓練集的前 25 個影像\n"
      ]
    },
    {
      "cell_type": "code",
      "execution_count": 20,
      "metadata": {
        "colab": {
          "base_uri": "https://localhost:8080/",
          "height": 589
        },
        "execution": {
          "iopub.execute_input": "2020-10-15T01:28:56.350855Z",
          "iopub.status.busy": "2020-10-15T01:28:56.327945Z",
          "iopub.status.idle": "2020-10-15T01:28:57.224132Z",
          "shell.execute_reply": "2020-10-15T01:28:57.224604Z"
        },
        "id": "oZTImqg_CaW1",
        "outputId": "49697c0f-ac64-4f0c-cb45-ed63ae7d556c"
      },
      "outputs": [
        {
          "data": {
            "image/png": "[encoded data removed]",
            "text/plain": [
              "<Figure size 720x720 with 25 Axes>"
            ]
          },
          "metadata": {},
          "output_type": "display_data"
        }
      ],
      "source": [
        "plt.figure(figsize=(10, 10))  # 圖片大小\n",
        "for i in range(25):\n",
        "    plt.subplot(5, 5, i+1)\n",
        "    plt.xticks([])\n",
        "    plt.yticks([])\n",
        "    plt.grid(False)\n",
        "    plt.imshow(train_images[i], cmap=plt.cm.binary)  # 以灰階格式顯示影像\n",
        "    plt.xlabel(class_names[train_labels[i]])  # 標註影像名稱\n",
        "plt.show()"
      ]
    },
    {
      "attachments": {},
      "cell_type": "markdown",
      "metadata": {
        "id": "59veuiEZCaW4"
      },
      "source": [
        "## Build the model\n",
        "\n",
        "Building the neural network requires configuring the layers of the model, then compiling the model.\n"
      ]
    },
    {
      "attachments": {},
      "cell_type": "markdown",
      "metadata": {
        "id": "Gxg1XGm0eOBy"
      },
      "source": [
        "### Set up the layers\n",
        "\n",
        "The basic building block of a neural network is the _layer_. Layers extract representations from the data fed into them. Hopefully, these representations are meaningful for the problem at hand.\n",
        "\n",
        "Most of deep learning consists of chaining together simple layers. Most layers, such as `tf.keras.layers.Dense`, have parameters that are learned during training.\n"
      ]
    },
    {
      "cell_type": "code",
      "execution_count": 23,
      "metadata": {
        "execution": {
          "iopub.execute_input": "2020-10-15T01:28:57.230757Z",
          "iopub.status.busy": "2020-10-15T01:28:57.229590Z",
          "iopub.status.idle": "2020-10-15T01:28:58.945316Z",
          "shell.execute_reply": "2020-10-15T01:28:58.944694Z"
        },
        "id": "9ODch-OFCaW4"
      },
      "outputs": [],
      "source": [
        "model = tf.keras.Sequential([\n",
        "    # 將輸入層匯入的28x28像素的灰階影像平坦化(忽略維度)\n",
        "    tf.keras.layers.Flatten(input_shape=(28, 28)),\n",
        "    tf.keras.layers.Dense(128, activation='relu'),  # 全連接層，使用relu做激勵函數\n",
        "    tf.keras.layers.Dense(10)  # 全連接層輸出\n",
        "])"
      ]
    },
    {
      "attachments": {},
      "cell_type": "markdown",
      "metadata": {
        "id": "gut8A_7rCaW6"
      },
      "source": [
        "The first layer in this network, `tf.keras.layers.Flatten`, transforms the format of the images from a two-dimensional array (of 28 by 28 pixels) to a one-dimensional array (of 28 \\* 28 = 784 pixels). Think of this layer as unstacking rows of pixels in the image and lining them up. This layer has no parameters to learn; it only reformats the data.\n",
        "\n",
        "After the pixels are flattened, the network consists of a sequence of two `tf.keras.layers.Dense` layers. These are densely connected, or fully connected, neural layers. The first `Dense` layer has 128 nodes (or neurons). The second (and last) layer returns a logits array with length of 10. Each node contains a score that indicates the current image belongs to one of the 10 classes.\n",
        "\n",
        "### Compile the model\n",
        "\n",
        "Before the model is ready for training, it needs a few more settings. These are added during the model's _compile_ step:\n",
        "\n",
        "- _Loss function_ —This measures how accurate the model is during training. You want to minimize this function to \"steer\" the model in the right direction.\n",
        "- _Optimizer_ —This is how the model is updated based on the data it sees and its loss function.\n",
        "- _Metrics_ —Used to monitor the training and testing steps. The following example uses _accuracy_, the fraction of the images that are correctly classified.\n"
      ]
    },
    {
      "cell_type": "code",
      "execution_count": 24,
      "metadata": {
        "execution": {
          "iopub.execute_input": "2020-10-15T01:28:58.958392Z",
          "iopub.status.busy": "2020-10-15T01:28:58.957188Z",
          "iopub.status.idle": "2020-10-15T01:28:58.965695Z",
          "shell.execute_reply": "2020-10-15T01:28:58.966131Z"
        },
        "id": "Lhan11blCaW7"
      },
      "outputs": [],
      "source": [
        "model.compile(optimizer='adam',\n",
        "              loss=tf.keras.losses.SparseCategoricalCrossentropy(\n",
        "                  from_logits=True),\n",
        "              metrics=['accuracy'])"
      ]
    },
    {
      "attachments": {},
      "cell_type": "markdown",
      "metadata": {
        "id": "qKF6uW-BCaW-"
      },
      "source": [
        "## Train the model\n",
        "\n",
        "Training the neural network model requires the following steps:\n",
        "\n",
        "1. Feed the training data to the model. In this example, the training data is in the `train_images` and `train_labels` arrays.\n",
        "2. The model learns to associate images and labels.\n",
        "3. You ask the model to make predictions about a test set—in this example, the `test_images` array.\n",
        "4. Verify that the predictions match the labels from the `test_labels` array.\n"
      ]
    },
    {
      "attachments": {},
      "cell_type": "markdown",
      "metadata": {
        "id": "Z4P4zIV7E28Z"
      },
      "source": [
        "### Feed the model\n",
        "\n",
        "To start training, call the `model.fit` method—so called because it \"fits\" the model to the training data:\n"
      ]
    },
    {
      "cell_type": "code",
      "execution_count": 25,
      "metadata": {
        "colab": {
          "base_uri": "https://localhost:8080/"
        },
        "execution": {
          "iopub.execute_input": "2020-10-15T01:28:58.972129Z",
          "iopub.status.busy": "2020-10-15T01:28:58.971103Z",
          "iopub.status.idle": "2020-10-15T01:29:28.207307Z",
          "shell.execute_reply": "2020-10-15T01:29:28.206660Z"
        },
        "id": "xvwvpA64CaW_",
        "outputId": "41cac036-b242-47a7-fd6f-b81e8809edad"
      },
      "outputs": [
        {
          "name": "stdout",
          "output_type": "stream",
          "text": [
            "Epoch 1/5\n",
            "1875/1875 [==============================] - 4s 2ms/step - loss: 1.1669 - accuracy: 0.7317\n",
            "Epoch 2/5\n",
            "1875/1875 [==============================] - 4s 2ms/step - loss: 0.4813 - accuracy: 0.8753\n",
            "Epoch 3/5\n",
            "1875/1875 [==============================] - 4s 2ms/step - loss: 0.3789 - accuracy: 0.8959: 1s - loss: 0\n",
            "Epoch 4/5\n",
            "1875/1875 [==============================] - 4s 2ms/step - loss: 0.3378 - accuracy: 0.9046\n",
            "Epoch 5/5\n",
            "1875/1875 [==============================] - 4s 2ms/step - loss: 0.3135 - accuracy: 0.9104\n"
          ]
        },
        {
          "data": {
            "text/plain": [
              "<keras.callbacks.History at 0x15e447e2790>"
            ]
          },
          "execution_count": 25,
          "metadata": {},
          "output_type": "execute_result"
        }
      ],
      "source": [
        "model.fit(train_images, train_labels, epochs=5)"
      ]
    },
    {
      "attachments": {},
      "cell_type": "markdown",
      "metadata": {
        "id": "W3ZVOhugCaXA"
      },
      "source": [
        "As the model trains, the loss and accuracy metrics are displayed. This model reaches an accuracy of about 0.91 (or 91%) on the training data.\n"
      ]
    },
    {
      "attachments": {},
      "cell_type": "markdown",
      "metadata": {
        "id": "wCpr6DGyE28h"
      },
      "source": [
        "### Evaluate accuracy\n",
        "\n",
        "Next, compare how the model performs on the test dataset:\n"
      ]
    },
    {
      "cell_type": "code",
      "execution_count": 26,
      "metadata": {
        "colab": {
          "base_uri": "https://localhost:8080/"
        },
        "execution": {
          "iopub.execute_input": "2020-10-15T01:29:28.212489Z",
          "iopub.status.busy": "2020-10-15T01:29:28.211852Z",
          "iopub.status.idle": "2020-10-15T01:29:28.957935Z",
          "shell.execute_reply": "2020-10-15T01:29:28.957398Z"
        },
        "id": "VflXLEeECaXC",
        "outputId": "5d9d14a0-9481-4bbc-cb2d-90628ca0988a"
      },
      "outputs": [
        {
          "name": "stdout",
          "output_type": "stream",
          "text": [
            "313/313 - 0s - loss: 0.2953 - accuracy: 0.9132 - 478ms/epoch - 2ms/step\n",
            "\n",
            "Test accuracy: 0.9132000207901001\n"
          ]
        }
      ],
      "source": [
        "test_loss, test_acc = model.evaluate(test_images,  test_labels, verbose=2)\n",
        "\n",
        "print('\\nTest accuracy:', test_acc)"
      ]
    },
    {
      "attachments": {},
      "cell_type": "markdown",
      "metadata": {
        "id": "yWfgsmVXCaXG"
      },
      "source": [
        "It turns out that the accuracy on the test dataset is a little less than the accuracy on the training dataset. This gap between training accuracy and test accuracy represents _overfitting_. Overfitting happens when a machine learning model performs worse on new, previously unseen inputs than it does on the training data. An overfitted model \"memorizes\" the noise and details in the training dataset to a point where it negatively impacts the performance of the model on the new data. For more information, see the following:\n",
        "\n",
        "- [Demonstrate overfitting](https://www.tensorflow.org/tutorials/keras/overfit_and_underfit#demonstrate_overfitting)\n",
        "- [Strategies to prevent overfitting](https://www.tensorflow.org/tutorials/keras/overfit_and_underfit#strategies_to_prevent_overfitting)\n"
      ]
    },
    {
      "attachments": {},
      "cell_type": "markdown",
      "metadata": {
        "id": "v-PyD1SYE28q"
      },
      "source": [
        "### Make predictions\n",
        "\n",
        "With the model trained, you can use it to make predictions about some images.\n",
        "The model's linear outputs, [logits](https://developers.google.com/machine-learning/glossary#logits). Attach a softmax layer to convert the logits to probabilities, which are easier to interpret.\n"
      ]
    },
    {
      "cell_type": "code",
      "execution_count": 27,
      "metadata": {
        "execution": {
          "iopub.execute_input": "2020-10-15T01:29:28.964739Z",
          "iopub.status.busy": "2020-10-15T01:29:28.964119Z",
          "iopub.status.idle": "2020-10-15T01:29:28.977816Z",
          "shell.execute_reply": "2020-10-15T01:29:28.977317Z"
        },
        "id": "DnfNA0CrQLSD"
      },
      "outputs": [],
      "source": [
        "probability_model = tf.keras.Sequential([model,\n",
        "                                         tf.keras.layers.Softmax()])  # 轉換為機率值"
      ]
    },
    {
      "cell_type": "code",
      "execution_count": 28,
      "metadata": {
        "execution": {
          "iopub.execute_input": "2020-10-15T01:29:28.981879Z",
          "iopub.status.busy": "2020-10-15T01:29:28.981269Z",
          "iopub.status.idle": "2020-10-15T01:29:29.358175Z",
          "shell.execute_reply": "2020-10-15T01:29:29.357478Z"
        },
        "id": "Gl91RPhdCaXI"
      },
      "outputs": [],
      "source": [
        "predictions = probability_model.predict(test_images)"
      ]
    },
    {
      "attachments": {},
      "cell_type": "markdown",
      "metadata": {
        "id": "x9Kk1voUCaXJ"
      },
      "source": [
        "Here, the model has predicted the label for each image in the testing set. Let's take a look at the first prediction:\n"
      ]
    },
    {
      "cell_type": "code",
      "execution_count": 30,
      "metadata": {
        "colab": {
          "base_uri": "https://localhost:8080/"
        },
        "execution": {
          "iopub.execute_input": "2020-10-15T01:29:29.363537Z",
          "iopub.status.busy": "2020-10-15T01:29:29.362894Z",
          "iopub.status.idle": "2020-10-15T01:29:29.366418Z",
          "shell.execute_reply": "2020-10-15T01:29:29.365810Z"
        },
        "id": "3DmJEUinCaXK",
        "outputId": "f6fe8bd8-b428-408c-bce6-8fc969bca8cc"
      },
      "outputs": [
        {
          "name": "stdout",
          "output_type": "stream",
          "text": [
            "[6.7591594e-05 7.7192503e-08 2.4840696e-05 6.6288112e-04 1.3168465e-06\n",
            " 2.8743993e-05 5.6922054e-09 9.9731332e-01 1.1125085e-05 1.8900437e-03]\n",
            "0.99999994\n"
          ]
        }
      ],
      "source": [
        "print(predictions[0])  # 第0號測試影像的預測機率值\n",
        "print(np.sum(predictions[0]))  # 第0號測試影像的分類機率總和"
      ]
    },
    {
      "attachments": {},
      "cell_type": "markdown",
      "metadata": {
        "id": "-hw1hgeSCaXN"
      },
      "source": [
        "A prediction is an array of 10 numbers. They represent the model's \"confidence\" that the image corresponds to each of the 10 different articles of clothing. You can see which label has the highest confidence value:\n"
      ]
    },
    {
      "cell_type": "code",
      "execution_count": 31,
      "metadata": {
        "colab": {
          "base_uri": "https://localhost:8080/"
        },
        "execution": {
          "iopub.execute_input": "2020-10-15T01:29:29.370858Z",
          "iopub.status.busy": "2020-10-15T01:29:29.370189Z",
          "iopub.status.idle": "2020-10-15T01:29:29.373719Z",
          "shell.execute_reply": "2020-10-15T01:29:29.373242Z"
        },
        "id": "qsqenuPnCaXO",
        "outputId": "564e487b-e958-4bd3-abc7-58000147eff5"
      },
      "outputs": [
        {
          "name": "stdout",
          "output_type": "stream",
          "text": [
            "7\n",
            "6\n"
          ]
        }
      ],
      "source": [
        "print(np.argmax(predictions[0]))  # 取最大值的位置(模式分類編號)\n",
        "print(np.argmin(predictions[0]))  # 取最小值的位置"
      ]
    },
    {
      "attachments": {},
      "cell_type": "markdown",
      "metadata": {
        "id": "E51yS7iCCaXO"
      },
      "source": [
        "So, the model is most confident that this image is an ankle boot, or `class_names[9]`. Examining the test label shows that this classification is correct:\n"
      ]
    },
    {
      "cell_type": "code",
      "execution_count": 32,
      "metadata": {
        "execution": {
          "iopub.execute_input": "2020-10-15T01:29:29.377805Z",
          "iopub.status.busy": "2020-10-15T01:29:29.377134Z",
          "iopub.status.idle": "2020-10-15T01:29:29.380679Z",
          "shell.execute_reply": "2020-10-15T01:29:29.380090Z"
        },
        "id": "Sd7Pgsu6CaXP",
        "outputId": "44e23954-2f22-43e7-9ff5-e74ac625fe18"
      },
      "outputs": [
        {
          "data": {
            "text/plain": [
              "7"
            ]
          },
          "execution_count": 32,
          "metadata": {},
          "output_type": "execute_result"
        }
      ],
      "source": [
        "test_labels[0]  # 目標值(分類編號)"
      ]
    },
    {
      "attachments": {},
      "cell_type": "markdown",
      "metadata": {
        "id": "ygh2yYC972ne"
      },
      "source": [
        "Graph this to look at the full set of 10 class predictions.\n"
      ]
    },
    {
      "cell_type": "code",
      "execution_count": null,
      "metadata": {
        "execution": {
          "iopub.execute_input": "2020-10-15T01:29:29.388527Z",
          "iopub.status.busy": "2020-10-15T01:29:29.387890Z",
          "iopub.status.idle": "2020-10-15T01:29:29.390338Z",
          "shell.execute_reply": "2020-10-15T01:29:29.389776Z"
        },
        "id": "DvYmmrpIy6Y1"
      },
      "outputs": [],
      "source": [
        "def plot_image(i, predictions_array, true_label, img):  # 顯示影像與圖說\n",
        "    true_label, img = true_label[i], img[i]\n",
        "    plt.grid(False)\n",
        "    plt.xticks([])\n",
        "    plt.yticks([])\n",
        "\n",
        "    plt.imshow(img, cmap=plt.cm.binary)  # 以灰階形式顯示影像\n",
        "\n",
        "    predicted_label = np.argmax(predictions_array)\n",
        "    if predicted_label == true_label:  # 邏輯判斷：是否答對\n",
        "        color = 'blue'  # 答對時，字用藍色\n",
        "    else:\n",
        "        color = 'red'  # 答錯時，字用紅色\n",
        "\n",
        "    plt.xlabel(\"{} {:2.0f}% ({})\".format(class_names[predicted_label],  # 分類估測結果\n",
        "                                         # 分類估測機率\n",
        "                                         100*np.max(predictions_array),\n",
        "                                         class_names[true_label]),  # 分類答案\n",
        "               color=color)  # 字的顏色\n",
        "\n",
        "\n",
        "def plot_value_array(i, predictions_array, true_label):  # 以長條圖呈現分類機率\n",
        "    true_label = true_label[i]\n",
        "    plt.grid(False)\n",
        "    plt.xticks(range(10))  # 水平軸顯示0到9的刻度\n",
        "    plt.yticks([])  # 垂直軸不顯示刻度\n",
        "    thisplot = plt.bar(range(10), predictions_array,\n",
        "                       color=\"#770077\")  # 所有直方圖呈現暗紫色\n",
        "    plt.ylim([0, 1])  # 垂直範圍設在[0,1]間\n",
        "    predicted_label = np.argmax(predictions_array)\n",
        "\n",
        "    thisplot[predicted_label].set_color('red')  # 如果答錯，呈現紅色。如果答對，會被蓋過\n",
        "    thisplot[true_label].set_color('blue')  # 如果答對，呈現藍色。"
      ]
    },
    {
      "attachments": {},
      "cell_type": "markdown",
      "metadata": {
        "id": "Zh9yABaME29S"
      },
      "source": [
        "### Verify predictions\n",
        "\n",
        "With the model trained, you can use it to make predictions about some images.\n"
      ]
    },
    {
      "attachments": {},
      "cell_type": "markdown",
      "metadata": {
        "id": "d4Ov9OFDMmOD"
      },
      "source": [
        "Let's look at the 0th image, predictions, and prediction array. Correct prediction labels are blue and incorrect prediction labels are red. The number gives the percentage (out of 100) for the predicted label.\n"
      ]
    },
    {
      "cell_type": "code",
      "execution_count": null,
      "metadata": {
        "colab": {
          "base_uri": "https://localhost:8080/",
          "height": 211
        },
        "execution": {
          "iopub.execute_input": "2020-10-15T01:29:29.407710Z",
          "iopub.status.busy": "2020-10-15T01:29:29.407060Z",
          "iopub.status.idle": "2020-10-15T01:29:29.522612Z",
          "shell.execute_reply": "2020-10-15T01:29:29.523065Z"
        },
        "id": "HV5jw-5HwSmO",
        "outputId": "e27a0308-f4b7-4112-a9f2-2e47c97e760d"
      },
      "outputs": [
        {
          "data": {
            "image/png": "[encoded data removed]",
            "text/plain": [
              "<Figure size 432x216 with 2 Axes>"
            ]
          },
          "metadata": {
            "needs_background": "light",
            "tags": []
          },
          "output_type": "display_data"
        }
      ],
      "source": [
        "i = 0  # 顯示第0號影像的辨識結果\n",
        "plt.figure(figsize=(6, 3))\n",
        "plt.subplot(1, 2, 1)\n",
        "plot_image(i, predictions[i], test_labels, test_images)  # 左圖\n",
        "plt.subplot(1, 2, 2)\n",
        "plot_value_array(i, predictions[i],  test_labels)  # 右圖\n",
        "plt.show()  # 顯示"
      ]
    },
    {
      "cell_type": "code",
      "execution_count": null,
      "metadata": {
        "colab": {
          "base_uri": "https://localhost:8080/",
          "height": 211
        },
        "execution": {
          "iopub.execute_input": "2020-10-15T01:29:29.539661Z",
          "iopub.status.busy": "2020-10-15T01:29:29.538497Z",
          "iopub.status.idle": "2020-10-15T01:29:29.655736Z",
          "shell.execute_reply": "2020-10-15T01:29:29.656108Z"
        },
        "id": "Ko-uzOufSCSe",
        "outputId": "1acd20ac-aa70-4ec8-c0e4-eaef861780ea"
      },
      "outputs": [
        {
          "data": {
            "image/png": "[encoded data removed]",
            "text/plain": [
              "<Figure size 432x216 with 2 Axes>"
            ]
          },
          "metadata": {
            "needs_background": "light",
            "tags": []
          },
          "output_type": "display_data"
        }
      ],
      "source": [
        "i = 12  # 顯示第12號影像的辨識結果\n",
        "plt.figure(figsize=(6, 3))\n",
        "plt.subplot(1, 2, 1)\n",
        "plot_image(i, predictions[i], test_labels, test_images)\n",
        "plt.subplot(1, 2, 2)\n",
        "plot_value_array(i, predictions[i],  test_labels)\n",
        "plt.show()"
      ]
    },
    {
      "attachments": {},
      "cell_type": "markdown",
      "metadata": {
        "id": "kgdvGD52CaXR"
      },
      "source": [
        "Let's plot several images with their predictions. Note that the model can be wrong even when very confident.\n"
      ]
    },
    {
      "cell_type": "code",
      "execution_count": null,
      "metadata": {
        "colab": {
          "base_uri": "https://localhost:8080/",
          "height": 729
        },
        "execution": {
          "iopub.execute_input": "2020-10-15T01:29:29.679633Z",
          "iopub.status.busy": "2020-10-15T01:29:29.665430Z",
          "iopub.status.idle": "2020-10-15T01:29:31.579390Z",
          "shell.execute_reply": "2020-10-15T01:29:31.579841Z"
        },
        "id": "hQlnbqaw2Qu_",
        "outputId": "b61b7a99-8178-4fdc-8813-a00807647419"
      },
      "outputs": [
        {
          "data": {
            "image/png": "[encoded data removed]",
            "text/plain": [
              "<Figure size 864x720 with 30 Axes>"
            ]
          },
          "metadata": {
            "needs_background": "light",
            "tags": []
          },
          "output_type": "display_data"
        }
      ],
      "source": [
        "# Plot the first X test images, their predicted labels, and the true labels.\n",
        "# Color correct predictions in blue and incorrect predictions in red.\n",
        "num_rows = 5\n",
        "num_cols = 3\n",
        "num_images = num_rows*num_cols\n",
        "plt.figure(figsize=(2*2*num_cols, 2*num_rows))\n",
        "for i in range(num_images):\n",
        "    plt.subplot(num_rows, 2*num_cols, 2*i+1)\n",
        "    plot_image(i, predictions[i], test_labels, test_images)\n",
        "    plt.subplot(num_rows, 2*num_cols, 2*i+2)\n",
        "    plot_value_array(i, predictions[i], test_labels)\n",
        "plt.tight_layout()\n",
        "plt.show()"
      ]
    },
    {
      "attachments": {},
      "cell_type": "markdown",
      "metadata": {
        "id": "R32zteKHCaXT"
      },
      "source": [
        "## Use the trained model\n",
        "\n",
        "Finally, use the trained model to make a prediction about a single image.\n"
      ]
    },
    {
      "cell_type": "code",
      "execution_count": null,
      "metadata": {
        "colab": {
          "base_uri": "https://localhost:8080/"
        },
        "execution": {
          "iopub.execute_input": "2020-10-15T01:29:31.584662Z",
          "iopub.status.busy": "2020-10-15T01:29:31.583984Z",
          "iopub.status.idle": "2020-10-15T01:29:31.586277Z",
          "shell.execute_reply": "2020-10-15T01:29:31.586760Z"
        },
        "id": "yRJ7JU7JCaXT",
        "outputId": "d5ed9d6a-d34d-45e7-c4d2-7c0b31dc0bac"
      },
      "outputs": [
        {
          "name": "stdout",
          "output_type": "stream",
          "text": [
            "(28, 28)\n"
          ]
        }
      ],
      "source": [
        "# Grab an image from the test dataset.\n",
        "img = test_images[1]\n",
        "\n",
        "print(img.shape)"
      ]
    },
    {
      "attachments": {},
      "cell_type": "markdown",
      "metadata": {
        "id": "vz3bVp21CaXV"
      },
      "source": [
        "`tf.keras` models are optimized to make predictions on a _batch_, or collection, of examples at once. Accordingly, even though you're using a single image, you need to add it to a list:\n"
      ]
    },
    {
      "cell_type": "code",
      "execution_count": null,
      "metadata": {
        "colab": {
          "base_uri": "https://localhost:8080/"
        },
        "execution": {
          "iopub.execute_input": "2020-10-15T01:29:31.591301Z",
          "iopub.status.busy": "2020-10-15T01:29:31.590656Z",
          "iopub.status.idle": "2020-10-15T01:29:31.592794Z",
          "shell.execute_reply": "2020-10-15T01:29:31.593208Z"
        },
        "id": "lDFh5yF_CaXW",
        "outputId": "52f0b238-cbc5-4d56-cc09-7b9879afa1b7"
      },
      "outputs": [
        {
          "name": "stdout",
          "output_type": "stream",
          "text": [
            "(1, 28, 28)\n"
          ]
        }
      ],
      "source": [
        "# Add the image to a batch where it's the only member.\n",
        "img = (np.expand_dims(img, 0))  # 在第0維增加維度，以符合模式所需的輸入資料格式\n",
        "\n",
        "print(img.shape)"
      ]
    },
    {
      "attachments": {},
      "cell_type": "markdown",
      "metadata": {
        "id": "EQ5wLTkcCaXY"
      },
      "source": [
        "Now predict the correct label for this image:\n"
      ]
    },
    {
      "cell_type": "code",
      "execution_count": null,
      "metadata": {
        "colab": {
          "base_uri": "https://localhost:8080/"
        },
        "execution": {
          "iopub.execute_input": "2020-10-15T01:29:31.597886Z",
          "iopub.status.busy": "2020-10-15T01:29:31.597206Z",
          "iopub.status.idle": "2020-10-15T01:29:31.633314Z",
          "shell.execute_reply": "2020-10-15T01:29:31.632699Z"
        },
        "id": "o_rzNSdrCaXY",
        "outputId": "0477fc8d-0003-4114-ccc9-27a7b5b8a566"
      },
      "outputs": [
        {
          "name": "stdout",
          "output_type": "stream",
          "text": [
            "[[1.9650240e-03 6.3698662e-06 9.8049635e-01 8.8747879e-03 1.1878687e-10\n",
            "  5.7741692e-03 2.1164264e-03 4.1468818e-11 7.6690631e-04 2.0429271e-10]]\n"
          ]
        }
      ],
      "source": [
        "predictions_single = probability_model.predict(img)\n",
        "\n",
        "print(predictions_single)"
      ]
    },
    {
      "cell_type": "code",
      "execution_count": null,
      "metadata": {
        "colab": {
          "base_uri": "https://localhost:8080/",
          "height": 267
        },
        "execution": {
          "iopub.execute_input": "2020-10-15T01:29:31.665435Z",
          "iopub.status.busy": "2020-10-15T01:29:31.657875Z",
          "iopub.status.idle": "2020-10-15T01:29:31.739346Z",
          "shell.execute_reply": "2020-10-15T01:29:31.738715Z"
        },
        "id": "6Ai-cpLjO-3A",
        "outputId": "320282a0-a8a4-4f49-d7d1-c147eee126d4"
      },
      "outputs": [
        {
          "data": {
            "image/png": "[encoded data removed]",
            "text/plain": [
              "<Figure size 432x288 with 1 Axes>"
            ]
          },
          "metadata": {
            "needs_background": "light",
            "tags": []
          },
          "output_type": "display_data"
        }
      ],
      "source": [
        "plot_value_array(1, predictions_single[0], test_labels)\n",
        "_ = plt.xticks(range(10), class_names, rotation=45)"
      ]
    },
    {
      "attachments": {},
      "cell_type": "markdown",
      "metadata": {
        "id": "cU1Y2OAMCaXb"
      },
      "source": [
        "`tf.keras.Model.predict` returns a list of lists—one list for each image in the batch of data. Grab the predictions for our (only) image in the batch:\n"
      ]
    },
    {
      "cell_type": "code",
      "execution_count": null,
      "metadata": {
        "colab": {
          "base_uri": "https://localhost:8080/"
        },
        "execution": {
          "iopub.execute_input": "2020-10-15T01:29:31.744362Z",
          "iopub.status.busy": "2020-10-15T01:29:31.743639Z",
          "iopub.status.idle": "2020-10-15T01:29:31.747116Z",
          "shell.execute_reply": "2020-10-15T01:29:31.746537Z"
        },
        "id": "2tRmdq_8CaXb",
        "outputId": "ee40881e-9b2f-441a-cee6-6538901f1bfd"
      },
      "outputs": [
        {
          "data": {
            "text/plain": [
              "2"
            ]
          },
          "execution_count": 102,
          "metadata": {
            "tags": []
          },
          "output_type": "execute_result"
        }
      ],
      "source": [
        "np.argmax(predictions_single[0])"
      ]
    },
    {
      "attachments": {},
      "cell_type": "markdown",
      "metadata": {
        "id": "YFc2HbEVCaXd"
      },
      "source": [
        "And the model predicts a label as expected.\n"
      ]
    }
  ],
  "metadata": {
    "colab": {
      "collapsed_sections": [
        "MhoQ0WE77laV"
      ],
      "name": "classification num.ipynb",
      "provenance": [],
      "toc_visible": true
    },
    "kernelspec": {
      "display_name": "Python 3",
      "name": "python3"
    },
    "language_info": {
      "codemirror_mode": {
        "name": "ipython",
        "version": 3
      },
      "file_extension": ".py",
      "mimetype": "text/x-python",
      "name": "python",
      "nbconvert_exporter": "python",
      "pygments_lexer": "ipython3",
      "version": "3.8.8"
    }
  },
  "nbformat": 4,
  "nbformat_minor": 0
}
